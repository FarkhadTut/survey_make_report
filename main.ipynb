{
 "cells": [
  {
   "cell_type": "code",
   "execution_count": 577,
   "metadata": {},
   "outputs": [],
   "source": [
    "from openpyxl.formatting import Rule\n",
    "from openpyxl.styles import Font, PatternFill, Border\n",
    "from openpyxl.styles.differential import DifferentialStyle\n",
    "import openpyxl\n",
    "from openpyxl.utils.cell import coordinate_from_string, column_index_from_string\n",
    "from openpyxl.formatting.rule import ColorScaleRule, CellIsRule\n",
    "import os"
   ]
  },
  {
   "cell_type": "code",
   "execution_count": 578,
   "metadata": {},
   "outputs": [],
   "source": [
    "filename = \"data\\\\Сурхондарё_индикаторлар_номинал_22_11_2023_2022_01_01_2022_09_01.xlsx\""
   ]
  },
  {
   "cell_type": "code",
   "execution_count": 579,
   "metadata": {},
   "outputs": [],
   "source": [
    "dxf = DifferentialStyle(font=Font(bold=True), fill=PatternFill(start_color='EE1111', end_color='EE1111'))\n",
    "rule = Rule(type='cellIs', dxf=dxf, formula=[\"10\"])"
   ]
  },
  {
   "cell_type": "code",
   "execution_count": 580,
   "metadata": {},
   "outputs": [],
   "source": [
    "wb = openpyxl.load_workbook(filename)\n",
    "ws = wb.active\n",
    "max_rows = ws.max_row\n",
    "DIS_COLUMNS = [\"K\", \"L\", \"M\", \"N\", \"O\", \"P\", \"Q\", \"R\", \"S\", \"T\", \"U\", \"V\", \"W\", \"X\", \"Y\", \"Z\"]\n",
    "RANK_COLUMNS = [\"AA\", \"AB\", \"AC\", \"AD\", \"AE\", \"AF\", \"AG\", \"AH\", \"AI\", \"AJ\", \"AK\", \"AL\", \"AM\", \"AN\", \"AO\", \"AP\"]\n",
    "\n",
    "# for row in range(2, max_rows+1):\n",
    "#     for i, dis_c in enumerate(DIS_COLUMNS):\n",
    "#         ws[f'{dis_c}{row}'] = ws[f\"{RANK_COLUMNS[i]}1\"].value"
   ]
  },
  {
   "cell_type": "code",
   "execution_count": 581,
   "metadata": {},
   "outputs": [
    {
     "name": "stdout",
     "output_type": "stream",
     "text": [
      "Республика (ҳар 100 000 аҳолига)\n",
      "Термиз\n",
      "Термиз тумани\n",
      "Ангор тумани\n",
      "Бойсун тумани\n",
      "Денов тумани\n",
      "Жарқўрғон тумани\n",
      "Қизириқ тумани\n",
      "Қумқўрғон тумани\n",
      "Музработ тумани\n",
      "Олтинсой тумани\n",
      "Сариосиё тумани\n",
      "Узун тумани\n",
      "Шеробод тумани\n",
      "Шўрчи тумани\n",
      "Бандихон тумани\n"
     ]
    }
   ],
   "source": [
    "for a, b in zip(DIS_COLUMNS, RANK_COLUMNS):\n",
    "    print(ws[f'{a}1'].value)\n",
    "    ws[f'{b}1'] = ws[f'{a}1'].value"
   ]
  },
  {
   "cell_type": "code",
   "execution_count": 582,
   "metadata": {},
   "outputs": [],
   "source": [
    "# RANK\n",
    "for row in range(2, max_rows+1):\n",
    "    for i, rank_c in enumerate(RANK_COLUMNS):\n",
    "        formula = f\"\"\"=RANK({DIS_COLUMNS[i]}{row}, {DIS_COLUMNS[0]}{row}:{DIS_COLUMNS[-1]}{row}, 0)\"\"\"\n",
    "        ws[f\"{rank_c}{row}\"] = formula\n"
   ]
  },
  {
   "cell_type": "code",
   "execution_count": 583,
   "metadata": {},
   "outputs": [],
   "source": [
    "# CONDITIONAL FORMATTING\n",
    "for row in range(2, max_rows+1):\n",
    "    ws.conditional_formatting.add(f'{DIS_COLUMNS[0]}{row}:{DIS_COLUMNS[-1]}{row}',\n",
    "                ColorScaleRule(start_type='min', start_color='FFD9D9',\n",
    "                end_type='max', end_color='FF6161')\n",
    "                )\n",
    "    red_fill = PatternFill(bgColor=\"000000\")\n",
    "    ws.conditional_formatting.add(f'{DIS_COLUMNS[0]}{row}:{DIS_COLUMNS[-1]}{row}',\n",
    "                CellIsRule(operator=\"=\", formula=[0], fill=red_fill)\n",
    "                )\n",
    "\n",
    "\n"
   ]
  },
  {
   "cell_type": "code",
   "execution_count": 584,
   "metadata": {},
   "outputs": [],
   "source": [
    "wb.save(f\"out\\\\output_{os.path.basename(filename)}.xlsx\")"
   ]
  }
 ],
 "metadata": {
  "kernelspec": {
   "display_name": "Python 3",
   "language": "python",
   "name": "python3"
  },
  "language_info": {
   "codemirror_mode": {
    "name": "ipython",
    "version": 3
   },
   "file_extension": ".py",
   "mimetype": "text/x-python",
   "name": "python",
   "nbconvert_exporter": "python",
   "pygments_lexer": "ipython3",
   "version": "3.11.1"
  }
 },
 "nbformat": 4,
 "nbformat_minor": 2
}
